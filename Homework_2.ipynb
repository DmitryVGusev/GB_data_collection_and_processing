{
 "cells": [
  {
   "cell_type": "markdown",
   "metadata": {},
   "source": [
    "# Введение в методы сбора и обработки данных\n",
    "## Добашнее задание к уроку 2"
   ]
  },
  {
   "cell_type": "code",
   "execution_count": 24,
   "metadata": {},
   "outputs": [],
   "source": [
    "import requests\n",
    "import pprint\n",
    "from collections import Counter\n",
    "import re\n",
    "import os\n",
    "from shutil import rmtree"
   ]
  },
  {
   "cell_type": "markdown",
   "metadata": {},
   "source": [
    "### Задание 1\n",
    "Доработать приложение по поиску авиабилетов, чтобы оно возвращало билеты по названию города, а не по IATA коду. (У aviasales есть для этого дополнительное API) Пункт отправления и пункт назначения должны передаваться в качестве параметров. Сделать форматированный вывод, который содержит в себе пункт отправления, пункт назначения, дату вылета, цену билета (можно добавить еще другие параметры по желанию)"
   ]
  },
  {
   "cell_type": "markdown",
   "metadata": {},
   "source": [
    "#### Решение:"
   ]
  },
  {
   "cell_type": "markdown",
   "metadata": {},
   "source": [
    "Реализуем функцию которая переводит названия городов в их IATA"
   ]
  },
  {
   "cell_type": "code",
   "execution_count": 2,
   "metadata": {},
   "outputs": [],
   "source": [
    "link = \"https://www.travelpayouts.com/widgets_suggest_params\"\n",
    "string = f'Из {\"архангельск\"} в {\"Красноярск\"}'\n",
    "req = requests.get(link, params={'q': string})\n",
    "data = req.json()"
   ]
  },
  {
   "cell_type": "code",
   "execution_count": 3,
   "metadata": {},
   "outputs": [
    {
     "data": {
      "text/plain": [
       "('ARH', 'KJA')"
      ]
     },
     "execution_count": 3,
     "metadata": {},
     "output_type": "execute_result"
    }
   ],
   "source": [
    "def get_city_iata_by_name(name1: str, name2: str):\n",
    "    \"\"\"Возвращает IATA городов, принимая на вход их названия\"\"\"\n",
    "    \n",
    "    link = \"https://www.travelpayouts.com/widgets_suggest_params\"\n",
    "    string = f'Из {name1} в {name2}'\n",
    "    \n",
    "    req = requests.get(link, params={'q': string})\n",
    "    data = req.json()\n",
    "    \n",
    "    return data['origin']['iata'], data['destination']['iata']\n",
    "\n",
    "# Проверим что функия отрабатыает корректно\n",
    "get_city_iata_by_name('архангельск', 'Красноярск')"
   ]
  },
  {
   "cell_type": "markdown",
   "metadata": {},
   "source": [
    "Реализуем функцию которая выдает список цен за билет в зависимости от указанных городов отправления и назначения:"
   ]
  },
  {
   "cell_type": "code",
   "execution_count": 4,
   "metadata": {},
   "outputs": [],
   "source": [
    "def get_min_price(city1: str, city2: str, depart_date: str):\n",
    "    link = \"http://min-prices.aviasales.ru/calendar_preload\"\n",
    "    fromCity, toCity = get_city_iata_by_name(city1, city2)\n",
    "    params = {\n",
    "        'origin': fromCity,\n",
    "        'destination': toCity,\n",
    "        'depart_date': depart_date\n",
    "    }\n",
    "    \n",
    "    req = requests.get(link, params=params)\n",
    "    data = req.json()\n",
    "    \n",
    "    print(f'Результат поиска авиабилетов из {city1.capitalize()} в {city2.capitalize()} на {depart_date}:')\n",
    "    \n",
    "    if len(data['current_depart_date_prices']) == 0:\n",
    "        print('Нет билетов подходящих запросам')\n",
    "    else:      \n",
    "        counter = 1\n",
    "        for i in data['current_depart_date_prices']:\n",
    "            print(f\"{counter:2}) Цена: {i['value']:.0f}руб., билетная компания {i['gate']}\")\n",
    "            counter += 1 \n",
    "              \n",
    "        "
   ]
  },
  {
   "cell_type": "code",
   "execution_count": 5,
   "metadata": {},
   "outputs": [
    {
     "name": "stdout",
     "output_type": "stream",
     "text": [
      "Результат поиска авиабилетов из Москва в Красноярск на 2019-09-19:\n",
      " 1) Цена: 15070руб., билетная компания AMADEUS\n",
      " 2) Цена: 15426руб., билетная компания AMADEUS\n",
      " 3) Цена: 14926руб., билетная компания AMADEUS\n",
      " 4) Цена: 10200руб., билетная компания Pobeda\n",
      " 5) Цена: 23422руб., билетная компания MEGO.travel\n",
      " 6) Цена: 13599руб., билетная компания Biletix\n",
      " 7) Цена: 12957руб., билетная компания Aviakassa\n",
      " 8) Цена: 13400руб., билетная компания Pobeda\n",
      " 9) Цена: 11200руб., билетная компания Pobeda\n",
      "10) Цена: 11200руб., билетная компания Pobeda\n",
      "11) Цена: 11424руб., билетная компания KupiBilet.ru\n",
      "12) Цена: 11200руб., билетная компания Pobeda\n",
      "13) Цена: 15426руб., билетная компания AMADEUS\n",
      "14) Цена: 12300руб., билетная компания Pobeda\n",
      "15) Цена: 10700руб., билетная компания Pobeda\n",
      "16) Цена: 10700руб., билетная компания Pobeda\n"
     ]
    }
   ],
   "source": [
    "get_min_price('Москва', 'Красноярск', '2019-09-19')"
   ]
  },
  {
   "cell_type": "markdown",
   "metadata": {},
   "source": [
    "Обернем запрос к пользователю в функцию"
   ]
  },
  {
   "cell_type": "code",
   "execution_count": 6,
   "metadata": {},
   "outputs": [],
   "source": [
    "def prompt_user():\n",
    "    \"\"\"Запрашивает данные у пользователя и возвращает результат запроса к aviasales\"\"\"\n",
    "    \n",
    "    city1 = input(\"Укажите пункт отправления: \")\n",
    "    city2 = input(\"Укажите пункт назначения:  \")\n",
    "    depart_date = input(\"Дата вылета [гггг-мм-дд]: \")\n",
    "    print()\n",
    "    get_min_price(city1.capitalize(), city2.capitalize(), depart_date)"
   ]
  },
  {
   "cell_type": "markdown",
   "metadata": {},
   "source": [
    "Наконец, попросим пользователя ввести города для поиска билетов:"
   ]
  },
  {
   "cell_type": "code",
   "execution_count": 7,
   "metadata": {},
   "outputs": [
    {
     "name": "stdout",
     "output_type": "stream",
     "text": [
      "Укажите пункт отправления: Москва\n",
      "Укажите пункт назначения:  Архангельск\n",
      "Дата вылета [гггг-мм-дд]: 2019-10-01\n",
      "\n",
      "Результат поиска авиабилетов из Москва в Архангельск на 2019-10-01:\n",
      " 1) Цена: 10852руб., билетная компания AMADEUS\n",
      " 2) Цена: 10852руб., билетная компания AMADEUS\n",
      " 3) Цена: 10852руб., билетная компания AMADEUS\n",
      " 4) Цена: 10852руб., билетная компания AMADEUS\n",
      " 5) Цена: 10852руб., билетная компания AMADEUS\n",
      " 6) Цена: 7900руб., билетная компания Nordavia\n",
      " 7) Цена: 10852руб., билетная компания AMADEUS\n",
      " 8) Цена: 10852руб., билетная компания AMADEUS\n",
      " 9) Цена: 7900руб., билетная компания Nordavia\n",
      "10) Цена: 10852руб., билетная компания AMADEUS\n",
      "11) Цена: 10852руб., билетная компания AMADEUS\n",
      "12) Цена: 10852руб., билетная компания AMADEUS\n",
      "13) Цена: 10852руб., билетная компания AMADEUS\n",
      "14) Цена: 10852руб., билетная компания AMADEUS\n"
     ]
    }
   ],
   "source": [
    "prompt_user()"
   ]
  },
  {
   "cell_type": "code",
   "execution_count": 8,
   "metadata": {},
   "outputs": [
    {
     "name": "stdout",
     "output_type": "stream",
     "text": [
      "Укажите пункт отправления: Мурманск\n",
      "Укажите пункт назначения:  Красноярск\n",
      "Дата вылета [гггг-мм-дд]: 2019-11-02\n",
      "\n",
      "Результат поиска авиабилетов из Мурманск в Красноярск на 2019-11-02:\n",
      "Нет билетов подходящих запросам\n"
     ]
    }
   ],
   "source": [
    "prompt_user()"
   ]
  },
  {
   "cell_type": "markdown",
   "metadata": {},
   "source": [
    "#### Заключение\n",
    "В код можно было добавить ряд проверок, например:\n",
    "1. Проверка соединения\n",
    "2. Проверка наличия аэропорта в городе\n",
    "3. Проверка наличия самого города\n",
    "4. Защита от дурака при вводе данных\n",
    "\n",
    "Но по сути это не меняет логики кода, а лишь усложняет код. Думаю, что для показательности работы с API его достаточно."
   ]
  },
  {
   "cell_type": "markdown",
   "metadata": {},
   "source": [
    "### Задание 2\n",
    "В приложении парсинга википедии получить первую ссылку на другую страницу и вывести все значимые слова из неё. Результат записать в файл в форматированном виде"
   ]
  },
  {
   "cell_type": "markdown",
   "metadata": {},
   "source": [
    "#### Решение:"
   ]
  },
  {
   "cell_type": "code",
   "execution_count": 12,
   "metadata": {},
   "outputs": [],
   "source": [
    "def return_wiki_html(topic):\n",
    "    \"\"\"Возвращает html-код страницы\"\"\"\n",
    "    wiki_request = requests.get(f'https://ru.wikipedia.org/wiki/{topic.capitalize()}')\n",
    "    return wiki_request.text\n",
    "\n",
    "\n",
    "def return_words(topic):\n",
    "    \"\"\"Возвращает 10 самых употребляемых на странице слов\"\"\"\n",
    "    wiki_html = return_wiki_html(topic)\n",
    "    words = re.findall('[а-яА-Я]{3,}', wiki_html)\n",
    "    words_counter = Counter(words)\n",
    "    \n",
    "    return words_counter.most_common(10)\n",
    "\n",
    "\n",
    "def find_first_link(topic):\n",
    "    \"\"\"Выводит первую ссылку со страницы\"\"\"\n",
    "    text = return_wiki_html(topic)\n",
    "    \n",
    "    # Ссылки могут быть как внешние (http|https)  так и внутренние (/wiki)\n",
    "    ans = re.findall(\"href\\s*=\\\"((http|/wiki)\\S*)\\\"\", text)[1]\n",
    "    if ans[1] == '/wiki':\n",
    "        return f\"https://ru.wikipedia.org{ans[0]}\"\n",
    "    else:\n",
    "        return ans[0]\n",
    "    \n",
    "\n",
    "def write_stat_to_file(page_name, filename):\n",
    "    \"\"\"Записывает результат в файл\"\"\"\n",
    "    link_most_common_words = return_words(page_name)\n",
    "    with open(filename, 'w') as f:\n",
    "        f.write(f'Список наиболее часто употребляемых слов на странице {first_link}:\\n')\n",
    "        f.writelines([f'{l[0]} - {l[1]} раз.\\n' for l in link_most_common_words])"
   ]
  },
  {
   "cell_type": "markdown",
   "metadata": {},
   "source": [
    "Пройдем по первой ссылке на искомой странице, и выведем оттуда в файл 10 наиболее часто используемых слов:"
   ]
  },
  {
   "cell_type": "code",
   "execution_count": 13,
   "metadata": {},
   "outputs": [],
   "source": [
    "page_name = 'Государство'\n",
    "\n",
    "# Найдем первую ссылку с данной странице\n",
    "first_link = find_first_link(page_name)"
   ]
  },
  {
   "cell_type": "code",
   "execution_count": 14,
   "metadata": {},
   "outputs": [],
   "source": [
    "write_stat_to_file(first_link, 'first_link_most_common_words')"
   ]
  },
  {
   "cell_type": "code",
   "execution_count": 15,
   "metadata": {},
   "outputs": [
    {
     "name": "stdout",
     "output_type": "stream",
     "text": [
      "Список наиболее часто употребляемых слов на странице https://ru.wikipedia.org/wiki/%D0%A4%D0%B0%D0%B9%D0%BB:Leviathan_by_Thomas_Hobbes.jpg:\r\n",
      "Файл - 11 раз.\r\n",
      "Википедия - 6 раз.\r\n",
      "Википедии - 6 раз.\r\n",
      "Перейти - 6 раз.\r\n",
      "страницы - 6 раз.\r\n",
      "Поиск - 5 раз.\r\n",
      "страницу - 5 раз.\r\n",
      "Список - 5 раз.\r\n",
      "для - 4 раз.\r\n",
      "можно - 4 раз.\r\n"
     ]
    }
   ],
   "source": [
    "!cat first_link_most_common_words"
   ]
  },
  {
   "cell_type": "markdown",
   "metadata": {},
   "source": [
    "### Задание 3\n",
    "Научить приложение определять количество ссылок в статье. Спарсить каждую ссылку и результаты записать в отдельные файлы."
   ]
  },
  {
   "cell_type": "markdown",
   "metadata": {},
   "source": [
    "#### Решение\n",
    "Переопределим функцию `find_first_link` чтобы она возвращала весь список ссылок"
   ]
  },
  {
   "cell_type": "code",
   "execution_count": 16,
   "metadata": {},
   "outputs": [],
   "source": [
    "def find_page_links(topic):\n",
    "    \"\"\"Выводит первую ссылку со страницы\"\"\"\n",
    "    text = return_wiki_html(topic)\n",
    "    \n",
    "    # Ссылки могут быть как внешние (http|https)  так и внутренние (/wiki)\n",
    "    ans = re.findall(\"href\\s*=\\\"((http|/wiki)\\S*)\\\"\", text)\n",
    "    \n",
    "    result = []\n",
    "    \n",
    "    # Первая ссылка - ссылка страницы на саму себя. Так что ее опускаем\n",
    "    for i in range(1, len(ans)):\n",
    "        if ans[i][1] == '/wiki':\n",
    "            result.append(f\"https://ru.wikipedia.org{ans[i][0]}\")\n",
    "        else:\n",
    "            result.append(ans[i][0])\n",
    "    return result"
   ]
  },
  {
   "cell_type": "code",
   "execution_count": 17,
   "metadata": {},
   "outputs": [],
   "source": [
    "page_name = 'Теория вероятностей'\n",
    "page_links = find_page_links(page_name)"
   ]
  },
  {
   "cell_type": "markdown",
   "metadata": {},
   "source": [
    "Создадим директорию куда будем складывать файлы"
   ]
  },
  {
   "cell_type": "code",
   "execution_count": 25,
   "metadata": {},
   "outputs": [],
   "source": [
    "links_dirname = 'links_parse_info'\n",
    "if os.path.isdir(links_dirname):\n",
    "    rmtree(links_dirname, ignore_errors=True)\n",
    "    \n",
    "os.mkdir(links_dirname)\n",
    "os.chdir(links_dirname)"
   ]
  },
  {
   "cell_type": "code",
   "execution_count": 27,
   "metadata": {},
   "outputs": [],
   "source": [
    "counter = 1\n",
    "\n",
    "for link in page_links:\n",
    "    write_stat_to_file(link, f'link_{counter}')\n",
    "    counter += 1"
   ]
  },
  {
   "cell_type": "markdown",
   "metadata": {},
   "source": [
    "Подсчитаем количество получившихся файлов"
   ]
  },
  {
   "cell_type": "code",
   "execution_count": 28,
   "metadata": {},
   "outputs": [
    {
     "data": {
      "text/plain": [
       "287"
      ]
     },
     "execution_count": 28,
     "metadata": {},
     "output_type": "execute_result"
    }
   ],
   "source": [
    "len(os.listdir())"
   ]
  }
 ],
 "metadata": {
  "kernelspec": {
   "display_name": "Python 3",
   "language": "python",
   "name": "python3"
  },
  "language_info": {
   "codemirror_mode": {
    "name": "ipython",
    "version": 3
   },
   "file_extension": ".py",
   "mimetype": "text/x-python",
   "name": "python",
   "nbconvert_exporter": "python",
   "pygments_lexer": "ipython3",
   "version": "3.7.1"
  }
 },
 "nbformat": 4,
 "nbformat_minor": 2
}
