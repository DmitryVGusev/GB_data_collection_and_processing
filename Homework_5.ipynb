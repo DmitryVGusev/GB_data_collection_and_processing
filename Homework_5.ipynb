{
 "cells": [
  {
   "cell_type": "markdown",
   "metadata": {},
   "source": [
    "# Введение в методы сбора и обработки данных\n",
    "## Добашнее задание к пятому уроку \"MongoDB\""
   ]
  },
  {
   "cell_type": "markdown",
   "metadata": {},
   "source": [
    "### Задание 1\n",
    "Развернуть у себя на компьютере/виртуальной машине/хостинге MongoDB и реализовать функцию, записывающую собранные объявления с avito.ru в созданную БД (xpath/BS для парсинга на выбор)"
   ]
  },
  {
   "cell_type": "markdown",
   "metadata": {},
   "source": [
    "#### Решение"
   ]
  },
  {
   "cell_type": "code",
   "execution_count": 1,
   "metadata": {},
   "outputs": [],
   "source": [
    "import requests\n",
    "from bs4 import BeautifulSoup as bs\n",
    "from pymongo import MongoClient\n",
    "import pprint\n",
    "\n",
    "import warnings\n",
    "warnings.filterwarnings('ignore')"
   ]
  },
  {
   "cell_type": "code",
   "execution_count": 2,
   "metadata": {},
   "outputs": [],
   "source": [
    "def connection_to_db():\n",
    "    \"\"\"Возвращает коннектор к базе данных Mongo\"\"\"\n",
    "    client = MongoClient('mongodb://127.0.0.1:27017')\n",
    "    db = client['adverts']\n",
    "    return db.adverts\n",
    "\n",
    "\n",
    "def get_avito_content(target):\n",
    "    \"\"\"Делает запрос к avito и возвращает контент\"\"\"\n",
    "    return requests.get(f'https://www.avito.ru/moskva?q={target}').text\n",
    "\n",
    "\n",
    "\n",
    "def parse_content(content):\n",
    "    \"\"\"Парсит контент с avito\"\"\"\n",
    "    \n",
    "    items = []\n",
    "\n",
    "    soup = bs(content, 'html.parser')\n",
    "    divs = soup.findAll('div', 'item_table-wrapper')\n",
    "\n",
    "    for div in divs:\n",
    "        category = div.find('div', attrs={'class': 'data'}).contents[1].contents[0].strip()\n",
    "        name = div.find('a', attrs={'class' :\"item-description-title-link\"}).text.strip()\n",
    "        price = int(div.find('span', attrs={'class': 'price'})['content'])\n",
    "\n",
    "        item = {\n",
    "            'category': category,\n",
    "            'name': name,\n",
    "            'price': price\n",
    "        }\n",
    "        \n",
    "        items.append(item)\n",
    "    \n",
    "    return items\n",
    "        \n",
    "def save_content_to_mongo(items):\n",
    "    \"\"\"Кладет контент в mongoDB\"\"\"\n",
    "    adverts_db = connection_to_db()\n",
    "    adverts_db.insert_many(items)"
   ]
  },
  {
   "cell_type": "markdown",
   "metadata": {},
   "source": [
    "Вызываем функции и формируем db"
   ]
  },
  {
   "cell_type": "code",
   "execution_count": 3,
   "metadata": {},
   "outputs": [],
   "source": [
    "# Скачиваем контент\n",
    "content = get_avito_content('knife')\n",
    "\n",
    "# Парсим контент\n",
    "items = parse_content(content)\n",
    "\n",
    "#Удалим старый контент из базы\n",
    "adverts_db = connection_to_db()\n",
    "adverts_db.drop()\n",
    "\n",
    "# Сохраняем контент в базу\n",
    "save_content_to_mongo(items)"
   ]
  },
  {
   "cell_type": "markdown",
   "metadata": {},
   "source": [
    "Проверим что данные попали в базу"
   ]
  },
  {
   "cell_type": "code",
   "execution_count": 4,
   "metadata": {},
   "outputs": [
    {
     "data": {
      "text/plain": [
       "50"
      ]
     },
     "execution_count": 4,
     "metadata": {},
     "output_type": "execute_result"
    }
   ],
   "source": [
    "adverts_db.count()"
   ]
  },
  {
   "cell_type": "markdown",
   "metadata": {},
   "source": [
    "### Задание 2 \n",
    "Написать функцию, которая производит поиск и выводит на экран объявления с ценой меньше введенной суммы"
   ]
  },
  {
   "cell_type": "markdown",
   "metadata": {},
   "source": [
    "#### Решение"
   ]
  },
  {
   "cell_type": "code",
   "execution_count": 5,
   "metadata": {},
   "outputs": [],
   "source": [
    "def get_item_with_price_less(price_limit=None):\n",
    "    \"\"\"Выводит позиции товаров дешевле указанной пользователем суммы\"\"\"\n",
    "    adverts_db = connection_to_db()\n",
    "    \n",
    "    if not price_limit:\n",
    "        price_limit = input(\"Укажите максимальную сумму: \")\n",
    "    \n",
    "    print('\\n')\n",
    "    for p in adverts_db.find({\"$and\": [{\"price\": {\"$gt\": 0}}, {\"price\": {\"$lt\": int(price_limit)}}]}).sort(\"price\"):\n",
    "        pprint.pprint(p)"
   ]
  },
  {
   "cell_type": "markdown",
   "metadata": {},
   "source": [
    "Вызовим функцию"
   ]
  },
  {
   "cell_type": "code",
   "execution_count": 6,
   "metadata": {},
   "outputs": [
    {
     "name": "stdout",
     "output_type": "stream",
     "text": [
      "Укажите максимальную сумму: 500\n",
      "\n",
      "\n",
      "{'_id': ObjectId('5d5101f11e9e453053b44ea5'),\n",
      " 'category': 'Посуда и товары для кухни',\n",
      " 'name': 'Ножеточка для ножниц и ножей Knife Sharpener.Новая',\n",
      " 'price': 150}\n",
      "{'_id': ObjectId('5d5101f11e9e453053b44eb4'),\n",
      " 'category': 'Коллекционирование',\n",
      " 'name': 'Значок брошь Нож охотничий hunting knife pin',\n",
      " 'price': 300}\n",
      "{'_id': ObjectId('5d5101f11e9e453053b44e89'),\n",
      " 'category': 'Ремонт и строительство',\n",
      " 'name': 'Мультитул 20 в 1 Super Knife',\n",
      " 'price': 390}\n",
      "{'_id': ObjectId('5d5101f11e9e453053b44e9b'),\n",
      " 'category': 'Посуда и товары для кухни',\n",
      " 'name': 'Точилка для ножей Bavarian edge Knife Sharpener',\n",
      " 'price': 490}\n"
     ]
    }
   ],
   "source": [
    "get_item_with_price_less()"
   ]
  }
 ],
 "metadata": {
  "kernelspec": {
   "display_name": "Python 3",
   "language": "python",
   "name": "python3"
  },
  "language_info": {
   "codemirror_mode": {
    "name": "ipython",
    "version": 3
   },
   "file_extension": ".py",
   "mimetype": "text/x-python",
   "name": "python",
   "nbconvert_exporter": "python",
   "pygments_lexer": "ipython3",
   "version": "3.7.1"
  }
 },
 "nbformat": 4,
 "nbformat_minor": 2
}
