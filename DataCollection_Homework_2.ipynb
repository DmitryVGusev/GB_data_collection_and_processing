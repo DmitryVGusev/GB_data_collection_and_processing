{
 "cells": [
  {
   "cell_type": "markdown",
   "metadata": {},
   "source": [
    "# Введение в методы сбора и обработки данных\n",
    "## Добашнее задание к уроку 2"
   ]
  },
  {
   "cell_type": "markdown",
   "metadata": {},
   "source": [
    "# Данное домашнее задание еще не готово, и размещено чтобы не вышло время сдачи. В ближейшее время доработаю."
   ]
  },
  {
   "cell_type": "code",
   "execution_count": 1,
   "metadata": {},
   "outputs": [],
   "source": [
    "import requests"
   ]
  },
  {
   "cell_type": "markdown",
   "metadata": {},
   "source": [
    "### Задание 1\n",
    "Доработать приложение по поиску авиабилетов, чтобы оно возвращало билеты по названию города, а не по IATA коду. (У aviasales есть для этого дополнительное API) Пункт отправления и пункт назначения должны передаваться в качестве параметров. Сделать форматированный вывод, который содержит в себе пункт отправления, пункт назначения, дату вылета, цену билета (можно добавить еще другие параметры по желанию)"
   ]
  },
  {
   "cell_type": "markdown",
   "metadata": {},
   "source": [
    "#### Решение:"
   ]
  },
  {
   "cell_type": "markdown",
   "metadata": {},
   "source": [
    "Реализуем функцию которая переводит названия городов в их IATA"
   ]
  },
  {
   "cell_type": "code",
   "execution_count": 4,
   "metadata": {},
   "outputs": [
    {
     "data": {
      "text/plain": [
       "('ARH', 'KJA')"
      ]
     },
     "execution_count": 4,
     "metadata": {},
     "output_type": "execute_result"
    }
   ],
   "source": [
    "def get_city_iata_by_name(name1: str, name2: str):\n",
    "    \"\"\"Возвращает IATA городов, принимая на вход их названия\"\"\"\n",
    "    \n",
    "    link = \"https://www.travelpayouts.com/widgets_suggest_params\"\n",
    "    string = f'Из {name1} в {name2}'\n",
    "    \n",
    "    req = requests.get(link, params={'q': string})\n",
    "    data = req.json()\n",
    "    \n",
    "    return data['origin']['iata'], data['destination']['iata']\n",
    "\n",
    "# Проверим что функия отрабатыает корректно\n",
    "get_city_iata_by_name('архангельск', 'Красноярск')"
   ]
  },
  {
   "cell_type": "code",
   "execution_count": 11,
   "metadata": {},
   "outputs": [
    {
     "name": "stdout",
     "output_type": "stream",
     "text": [
      "28753.0 2019-08-01 2019-08-07\n",
      "22774.0 2020-01-04 2020-01-13\n",
      "22774.0 2020-01-05 2020-01-13\n",
      "28100.0 2019-08-05 2019-08-15\n",
      "28274.0 2019-08-06 2019-08-16\n",
      "33043.0 2019-08-07 2019-08-17\n",
      "22648.0 2019-09-08 2019-09-20\n",
      "29124.0 2019-08-10 2019-08-18\n",
      "31209.0 2019-08-15 2019-08-25\n",
      "30942.0 2019-08-16 2019-08-24\n",
      "22648.0 2019-11-20 2019-11-24\n",
      "22648.0 2019-09-24 2019-09-25\n",
      "28148.0 2019-08-25 2019-10-30\n",
      "22648.0 2019-11-25 2019-11-29\n",
      "37092.0 2019-07-26 2019-08-03\n",
      "33774.0 2019-07-31 2019-08-04\n"
     ]
    }
   ],
   "source": [
    "def get_min_price(city1, city2):\n",
    "    link = \"http://min-prices.aviasales.ru/calendar_preload\"\n",
    "    fromCity, toCity = get_city_iata_by_name(city1, city2)\n",
    "    params = {\n",
    "        'origin': fromCity,\n",
    "        'destination': toCity\n",
    "    }\n",
    "    \n",
    "    req = requests.get(link, params=params)\n",
    "    data = req.json()\n",
    "    for i in data['best_prices']:\n",
    "        print(i['value'],i['depart_date'],i['return_date'])\n",
    "        \n",
    "get_min_price('архангельск', 'Красноярск')"
   ]
  },
  {
   "cell_type": "code",
   "execution_count": 10,
   "metadata": {},
   "outputs": [
    {
     "data": {
      "text/plain": [
       "{'errors': {'Amadeus': 'Some error occured'},\n",
       " 'current_depart_date_prices': [],\n",
       " 'best_prices': [{'value': 28753.0,\n",
       "   'trip_class': 0,\n",
       "   'show_to_affiliates': False,\n",
       "   'return_date': '2019-08-07',\n",
       "   'origin': 'ARH',\n",
       "   'number_of_changes': 2,\n",
       "   'gate': 'KupiBilet.ru',\n",
       "   'found_at': '2019-07-11T16:46:14',\n",
       "   'distance': 2903,\n",
       "   'destination': 'KJA',\n",
       "   'depart_date': '2019-08-01',\n",
       "   'actual': True},\n",
       "  {'value': 22774.0,\n",
       "   'trip_class': 0,\n",
       "   'show_to_affiliates': False,\n",
       "   'return_date': '2020-01-13',\n",
       "   'origin': 'ARH',\n",
       "   'number_of_changes': 1,\n",
       "   'gate': 'Aerobilet',\n",
       "   'found_at': '2019-07-13T00:32:26',\n",
       "   'distance': 2903,\n",
       "   'destination': 'KJA',\n",
       "   'depart_date': '2020-01-04',\n",
       "   'actual': True},\n",
       "  {'value': 22774.0,\n",
       "   'trip_class': 0,\n",
       "   'show_to_affiliates': False,\n",
       "   'return_date': '2020-01-13',\n",
       "   'origin': 'ARH',\n",
       "   'number_of_changes': 1,\n",
       "   'gate': 'Aerobilet',\n",
       "   'found_at': '2019-07-13T00:30:31',\n",
       "   'distance': 2903,\n",
       "   'destination': 'KJA',\n",
       "   'depart_date': '2020-01-05',\n",
       "   'actual': True},\n",
       "  {'value': 28100.0,\n",
       "   'trip_class': 0,\n",
       "   'show_to_affiliates': False,\n",
       "   'return_date': '2019-08-15',\n",
       "   'origin': 'ARH',\n",
       "   'number_of_changes': 1,\n",
       "   'gate': 'Rusline',\n",
       "   'found_at': '2019-07-19T19:00:24',\n",
       "   'distance': 2903,\n",
       "   'destination': 'KJA',\n",
       "   'depart_date': '2019-08-05',\n",
       "   'actual': True},\n",
       "  {'value': 28274.0,\n",
       "   'trip_class': 0,\n",
       "   'show_to_affiliates': False,\n",
       "   'return_date': '2019-08-16',\n",
       "   'origin': 'ARH',\n",
       "   'number_of_changes': 1,\n",
       "   'gate': 'Trip.ru',\n",
       "   'found_at': '2019-07-19T19:05:24',\n",
       "   'distance': 2903,\n",
       "   'destination': 'KJA',\n",
       "   'depart_date': '2019-08-06',\n",
       "   'actual': True},\n",
       "  {'value': 33043.0,\n",
       "   'trip_class': 0,\n",
       "   'show_to_affiliates': False,\n",
       "   'return_date': '2019-08-17',\n",
       "   'origin': 'ARH',\n",
       "   'number_of_changes': 1,\n",
       "   'gate': 'Aviakassa',\n",
       "   'found_at': '2019-07-23T18:35:20',\n",
       "   'distance': 2903,\n",
       "   'destination': 'KJA',\n",
       "   'depart_date': '2019-08-07',\n",
       "   'actual': True},\n",
       "  {'value': 22648.0,\n",
       "   'trip_class': 0,\n",
       "   'show_to_affiliates': False,\n",
       "   'return_date': '2019-09-20',\n",
       "   'origin': 'ARH',\n",
       "   'number_of_changes': 1,\n",
       "   'gate': 'Trip.ru',\n",
       "   'found_at': '2019-07-17T20:57:37',\n",
       "   'distance': 2903,\n",
       "   'destination': 'KJA',\n",
       "   'depart_date': '2019-09-08',\n",
       "   'actual': True},\n",
       "  {'value': 29124.0,\n",
       "   'trip_class': 0,\n",
       "   'show_to_affiliates': False,\n",
       "   'return_date': '2019-08-18',\n",
       "   'origin': 'ARH',\n",
       "   'number_of_changes': 1,\n",
       "   'gate': 'KupiBilet.ru',\n",
       "   'found_at': '2019-07-12T11:10:48',\n",
       "   'distance': 2903,\n",
       "   'destination': 'KJA',\n",
       "   'depart_date': '2019-08-10',\n",
       "   'actual': True},\n",
       "  {'value': 31209.0,\n",
       "   'trip_class': 0,\n",
       "   'show_to_affiliates': False,\n",
       "   'return_date': '2019-08-25',\n",
       "   'origin': 'ARH',\n",
       "   'number_of_changes': 1,\n",
       "   'gate': 'Aviakassa',\n",
       "   'found_at': '2019-07-20T21:15:00',\n",
       "   'distance': 2903,\n",
       "   'destination': 'KJA',\n",
       "   'depart_date': '2019-08-15',\n",
       "   'actual': True},\n",
       "  {'value': 30942.0,\n",
       "   'trip_class': 0,\n",
       "   'show_to_affiliates': False,\n",
       "   'return_date': '2019-08-24',\n",
       "   'origin': 'ARH',\n",
       "   'number_of_changes': 1,\n",
       "   'gate': 'City.Travel',\n",
       "   'found_at': '2019-07-20T20:13:32',\n",
       "   'distance': 2903,\n",
       "   'destination': 'KJA',\n",
       "   'depart_date': '2019-08-16',\n",
       "   'actual': True},\n",
       "  {'value': 22648.0,\n",
       "   'trip_class': 0,\n",
       "   'show_to_affiliates': False,\n",
       "   'return_date': '2019-11-24',\n",
       "   'origin': 'ARH',\n",
       "   'number_of_changes': 1,\n",
       "   'gate': 'Trip.ru',\n",
       "   'found_at': '2019-07-17T14:33:41',\n",
       "   'distance': 2903,\n",
       "   'destination': 'KJA',\n",
       "   'depart_date': '2019-11-20',\n",
       "   'actual': True},\n",
       "  {'value': 22648.0,\n",
       "   'trip_class': 0,\n",
       "   'show_to_affiliates': False,\n",
       "   'return_date': '2019-09-25',\n",
       "   'origin': 'ARH',\n",
       "   'number_of_changes': 1,\n",
       "   'gate': 'Trip.ru',\n",
       "   'found_at': '2019-07-14T21:50:22',\n",
       "   'distance': 2903,\n",
       "   'destination': 'KJA',\n",
       "   'depart_date': '2019-09-24',\n",
       "   'actual': True},\n",
       "  {'value': 28148.0,\n",
       "   'trip_class': 0,\n",
       "   'show_to_affiliates': False,\n",
       "   'return_date': '2019-10-30',\n",
       "   'origin': 'ARH',\n",
       "   'number_of_changes': 1,\n",
       "   'gate': 'Trip.ru',\n",
       "   'found_at': '2019-07-24T03:40:47',\n",
       "   'distance': 2903,\n",
       "   'destination': 'KJA',\n",
       "   'depart_date': '2019-08-25',\n",
       "   'actual': True},\n",
       "  {'value': 22648.0,\n",
       "   'trip_class': 0,\n",
       "   'show_to_affiliates': False,\n",
       "   'return_date': '2019-11-29',\n",
       "   'origin': 'ARH',\n",
       "   'number_of_changes': 1,\n",
       "   'gate': 'Trip.ru',\n",
       "   'found_at': '2019-07-17T14:34:25',\n",
       "   'distance': 2903,\n",
       "   'destination': 'KJA',\n",
       "   'depart_date': '2019-11-25',\n",
       "   'actual': True},\n",
       "  {'value': 37092.0,\n",
       "   'trip_class': 0,\n",
       "   'show_to_affiliates': False,\n",
       "   'return_date': '2019-08-03',\n",
       "   'origin': 'ARH',\n",
       "   'number_of_changes': 1,\n",
       "   'gate': 'Aviakassa',\n",
       "   'found_at': '2019-07-24T07:14:38',\n",
       "   'distance': 2903,\n",
       "   'destination': 'KJA',\n",
       "   'depart_date': '2019-07-26',\n",
       "   'actual': True},\n",
       "  {'value': 33774.0,\n",
       "   'trip_class': 0,\n",
       "   'show_to_affiliates': False,\n",
       "   'return_date': '2019-08-04',\n",
       "   'origin': 'ARH',\n",
       "   'number_of_changes': 1,\n",
       "   'gate': 'Aerobilet',\n",
       "   'found_at': '2019-07-12T15:52:04',\n",
       "   'distance': 2903,\n",
       "   'destination': 'KJA',\n",
       "   'depart_date': '2019-07-31',\n",
       "   'actual': True}]}"
      ]
     },
     "execution_count": 10,
     "metadata": {},
     "output_type": "execute_result"
    }
   ],
   "source": [
    "get_min_price('архангельск', 'Красноярск')"
   ]
  },
  {
   "cell_type": "markdown",
   "metadata": {},
   "source": [
    "### Задание 2\n",
    "В приложении парсинга википедии получить первую ссылку на другую страницу и вывести все значимые слова из неё. Результат записать в файл в форматированном виде"
   ]
  },
  {
   "cell_type": "markdown",
   "metadata": {},
   "source": [
    "### Задание 3\n",
    "Научить приложение определять количество ссылок в статье. Спарсить каждую ссылку и результаты записать в отдельные файлы."
   ]
  }
 ],
 "metadata": {
  "kernelspec": {
   "display_name": "Python 3",
   "language": "python",
   "name": "python3"
  },
  "language_info": {
   "codemirror_mode": {
    "name": "ipython",
    "version": 3
   },
   "file_extension": ".py",
   "mimetype": "text/x-python",
   "name": "python",
   "nbconvert_exporter": "python",
   "pygments_lexer": "ipython3",
   "version": "3.7.1"
  }
 },
 "nbformat": 4,
 "nbformat_minor": 2
}
