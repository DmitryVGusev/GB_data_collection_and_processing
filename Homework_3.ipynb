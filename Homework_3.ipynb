{
 "cells": [
  {
   "cell_type": "markdown",
   "metadata": {},
   "source": [
    "# Введение в методы сбора и обработки данных\n",
    "## Добашнее задание к третьему уроку \"Парсинг HTML\""
   ]
  },
  {
   "cell_type": "markdown",
   "metadata": {},
   "source": [
    "### Задача 1\n",
    "Необходимо собрать информацию о вакансиях на должность программиста или разработчика с сайта job.ru или hh.ru. (Можно с обоих сразу) Приложение должно анализировать несколько страниц сайта. Получившийся список должен содержать в себе:"
   ]
  },
  {
   "cell_type": "markdown",
   "metadata": {},
   "source": [
    "* Наименование вакансии, \n",
    "* Предлагаемую зарплату \n",
    "* Ссылку на саму вакансию"
   ]
  },
  {
   "cell_type": "markdown",
   "metadata": {},
   "source": [
    "#### Решение"
   ]
  },
  {
   "cell_type": "markdown",
   "metadata": {},
   "source": [
    "_job.ru полностью переехал на hh.ru, так что есть для использования только hh.ru_"
   ]
  },
  {
   "cell_type": "code",
   "execution_count": 1,
   "metadata": {},
   "outputs": [],
   "source": [
    "import requests\n",
    "import pandas as pd\n",
    "from lxml import html\n",
    "import re"
   ]
  },
  {
   "cell_type": "markdown",
   "metadata": {},
   "source": [
    "Зададим параметры к запросу"
   ]
  },
  {
   "cell_type": "code",
   "execution_count": 2,
   "metadata": {},
   "outputs": [],
   "source": [
    "def get_vacancy_df(text='\"программист\" OR \"разработчик\"'):\n",
    "    \"\"\"Возвращает датасет с данными о вакансиях\"\"\"\n",
    "    \n",
    "    hh_link = 'https://hh.ru/search/vacancy'\n",
    "    headers = {'accept': '*/*',\n",
    "           'user-agent': 'Mozilla/5.0 (Macintosh; Intel Mac OS X 10.14; rv:68.0)' \n",
    "                        'Gecko/20100101 Firefox/68.0'}\n",
    "    \n",
    "    page_num = None\n",
    "    params = {\n",
    "        'clusters': 'true',\n",
    "        'enable_snippets': 'true',\n",
    "        'only_with_salary': 'true',\n",
    "        'currency': \"RUR\",\n",
    "        'text': text,\n",
    "        \"search_field\": \"name\",\n",
    "        'showClusters': 'true',\n",
    "        'area': 1,\n",
    "        'page': page_num\n",
    "    }\n",
    "\n",
    "    all_page_req = []\n",
    "    session = requests.Session()\n",
    "\n",
    "    # Запрос к сайту и получение ответа (первые 5 страниц)\n",
    "    for page_num in range(5):\n",
    "        request = session.get(hh_link, params=params, headers=headers)\n",
    "\n",
    "        root = html.fromstring(request.text)\n",
    "\n",
    "        results_list = root.xpath(\"//a[contains(@class, 'bloko-link HH-LinkModifier')]/text() \"\n",
    "                                          \"| //div[contains(@class, 'vacancy-serp-item__compensation')]/text()\"\n",
    "                                          \"| //a[contains(@class, 'bloko-link HH-LinkModifier')]/@href\")\n",
    "        all_page_req.extend(results_list)\n",
    "\n",
    "    ## Обработка полученных данных\n",
    "    data_list = []\n",
    "    id_mask = 'vacancy\\/([0-9]*)\\?' # Регулярное выражение для получения id\n",
    "\n",
    "    # Формирование json\n",
    "    for i in range(0, len(all_page_req), 3):\n",
    "        data_list.append({\n",
    "            'index': int(re.search(id_mask, all_page_req[i])[1]),\n",
    "            'name': all_page_req[i+1],\n",
    "            'salary': all_page_req[i+2].replace(u'\\xa0', u''),\n",
    "            'link': all_page_req[i].split('?')[0]\n",
    "        })\n",
    "\n",
    "    return pd.DataFrame(data_list).set_index('index')[['name', 'salary', 'link']]"
   ]
  },
  {
   "cell_type": "markdown",
   "metadata": {},
   "source": [
    "Вызовим функцию и проверим результат"
   ]
  },
  {
   "cell_type": "code",
   "execution_count": 3,
   "metadata": {},
   "outputs": [],
   "source": [
    "df = get_vacancy_df('\"программист\" OR \"разработчик\"')"
   ]
  },
  {
   "cell_type": "code",
   "execution_count": 4,
   "metadata": {},
   "outputs": [
    {
     "data": {
      "text/html": [
       "<div>\n",
       "<style scoped>\n",
       "    .dataframe tbody tr th:only-of-type {\n",
       "        vertical-align: middle;\n",
       "    }\n",
       "\n",
       "    .dataframe tbody tr th {\n",
       "        vertical-align: top;\n",
       "    }\n",
       "\n",
       "    .dataframe thead th {\n",
       "        text-align: right;\n",
       "    }\n",
       "</style>\n",
       "<table border=\"1\" class=\"dataframe\">\n",
       "  <thead>\n",
       "    <tr style=\"text-align: right;\">\n",
       "      <th></th>\n",
       "      <th>name</th>\n",
       "      <th>salary</th>\n",
       "      <th>link</th>\n",
       "    </tr>\n",
       "    <tr>\n",
       "      <th>index</th>\n",
       "      <th></th>\n",
       "      <th></th>\n",
       "      <th></th>\n",
       "    </tr>\n",
       "  </thead>\n",
       "  <tbody>\n",
       "    <tr>\n",
       "      <th>32543357</th>\n",
       "      <td>Программист С++ (графика)</td>\n",
       "      <td>80000-120000 руб.</td>\n",
       "      <td>https://hh.ru/vacancy/32543357</td>\n",
       "    </tr>\n",
       "    <tr>\n",
       "      <th>32946587</th>\n",
       "      <td>Старший программист-разработчик PHP</td>\n",
       "      <td>200000-200000 руб.</td>\n",
       "      <td>https://hh.ru/vacancy/32946587</td>\n",
       "    </tr>\n",
       "    <tr>\n",
       "      <th>32842466</th>\n",
       "      <td>Java - разработчик (Middle)</td>\n",
       "      <td>от 90000 руб.</td>\n",
       "      <td>https://hh.ru/vacancy/32842466</td>\n",
       "    </tr>\n",
       "    <tr>\n",
       "      <th>32379189</th>\n",
       "      <td>JavaScript разработчик (ДИТ HR)</td>\n",
       "      <td>от 230000 руб.</td>\n",
       "      <td>https://hh.ru/vacancy/32379189</td>\n",
       "    </tr>\n",
       "    <tr>\n",
       "      <th>32323917</th>\n",
       "      <td>Программист С++</td>\n",
       "      <td>60000-100000 руб.</td>\n",
       "      <td>https://hh.ru/vacancy/32323917</td>\n",
       "    </tr>\n",
       "  </tbody>\n",
       "</table>\n",
       "</div>"
      ],
      "text/plain": [
       "                                         name              salary  \\\n",
       "index                                                               \n",
       "32543357            Программист С++ (графика)   80000-120000 руб.   \n",
       "32946587  Старший программист-разработчик PHP  200000-200000 руб.   \n",
       "32842466          Java - разработчик (Middle)       от 90000 руб.   \n",
       "32379189      JavaScript разработчик (ДИТ HR)      от 230000 руб.   \n",
       "32323917                      Программист С++   60000-100000 руб.   \n",
       "\n",
       "                                    link  \n",
       "index                                     \n",
       "32543357  https://hh.ru/vacancy/32543357  \n",
       "32946587  https://hh.ru/vacancy/32946587  \n",
       "32842466  https://hh.ru/vacancy/32842466  \n",
       "32379189  https://hh.ru/vacancy/32379189  \n",
       "32323917  https://hh.ru/vacancy/32323917  "
      ]
     },
     "execution_count": 4,
     "metadata": {},
     "output_type": "execute_result"
    }
   ],
   "source": [
    "df.head(5)"
   ]
  },
  {
   "cell_type": "markdown",
   "metadata": {},
   "source": [
    "### Задача 2\n",
    "Доработать приложение таким образом, чтобы можно было искать разработчиков на разные языки программирования (Например Python, Java, C++)"
   ]
  },
  {
   "cell_type": "markdown",
   "metadata": {},
   "source": [
    "#### Решение\n",
    "В принципе, всё готово, обернем лишь запрос к пользователю и вызовим:"
   ]
  },
  {
   "cell_type": "code",
   "execution_count": 5,
   "metadata": {},
   "outputs": [],
   "source": [
    "def get_vacancy_df_by_lang():\n",
    "\n",
    "    lang = input('Какой язык разработки вас интересует?: ')\n",
    "\n",
    "    return get_vacancy_df(f'\"{lang}\" AND \"разработчик\"')"
   ]
  },
  {
   "cell_type": "code",
   "execution_count": 6,
   "metadata": {},
   "outputs": [
    {
     "name": "stdout",
     "output_type": "stream",
     "text": [
      "Какой язык разработки вас интересует?: Python\n"
     ]
    }
   ],
   "source": [
    "df = get_vacancy_df_by_lang()"
   ]
  },
  {
   "cell_type": "code",
   "execution_count": 7,
   "metadata": {},
   "outputs": [
    {
     "data": {
      "text/html": [
       "<div>\n",
       "<style scoped>\n",
       "    .dataframe tbody tr th:only-of-type {\n",
       "        vertical-align: middle;\n",
       "    }\n",
       "\n",
       "    .dataframe tbody tr th {\n",
       "        vertical-align: top;\n",
       "    }\n",
       "\n",
       "    .dataframe thead th {\n",
       "        text-align: right;\n",
       "    }\n",
       "</style>\n",
       "<table border=\"1\" class=\"dataframe\">\n",
       "  <thead>\n",
       "    <tr style=\"text-align: right;\">\n",
       "      <th></th>\n",
       "      <th>name</th>\n",
       "      <th>salary</th>\n",
       "      <th>link</th>\n",
       "    </tr>\n",
       "    <tr>\n",
       "      <th>index</th>\n",
       "      <th></th>\n",
       "      <th></th>\n",
       "      <th></th>\n",
       "    </tr>\n",
       "  </thead>\n",
       "  <tbody>\n",
       "    <tr>\n",
       "      <th>32438211</th>\n",
       "      <td>Python разработчик</td>\n",
       "      <td>от 120000 руб.</td>\n",
       "      <td>https://hh.ru/vacancy/32438211</td>\n",
       "    </tr>\n",
       "    <tr>\n",
       "      <th>32740537</th>\n",
       "      <td>Программист Python (в Ригу)</td>\n",
       "      <td>2000-3000 EUR</td>\n",
       "      <td>https://hh.ru/vacancy/32740537</td>\n",
       "    </tr>\n",
       "    <tr>\n",
       "      <th>32923751</th>\n",
       "      <td>Python Backend разработчик</td>\n",
       "      <td>120000-160000 руб.</td>\n",
       "      <td>https://hh.ru/vacancy/32923751</td>\n",
       "    </tr>\n",
       "    <tr>\n",
       "      <th>31240024</th>\n",
       "      <td>Младший разработчик веб-скрейперов (Python, Se...</td>\n",
       "      <td>80000-100000 руб.</td>\n",
       "      <td>https://hh.ru/vacancy/31240024</td>\n",
       "    </tr>\n",
       "    <tr>\n",
       "      <th>32680147</th>\n",
       "      <td>Python-разработчик</td>\n",
       "      <td>до 200000 руб.</td>\n",
       "      <td>https://hh.ru/vacancy/32680147</td>\n",
       "    </tr>\n",
       "    <tr>\n",
       "      <th>32433718</th>\n",
       "      <td>Back-end разработчик (Python)</td>\n",
       "      <td>80000-120000 руб.</td>\n",
       "      <td>https://hh.ru/vacancy/32433718</td>\n",
       "    </tr>\n",
       "    <tr>\n",
       "      <th>32528796</th>\n",
       "      <td>Python Developer</td>\n",
       "      <td>от 120000 руб.</td>\n",
       "      <td>https://hh.ru/vacancy/32528796</td>\n",
       "    </tr>\n",
       "    <tr>\n",
       "      <th>32690277</th>\n",
       "      <td>Backend Developer (Python, Django)</td>\n",
       "      <td>180000-220000 руб.</td>\n",
       "      <td>https://hh.ru/vacancy/32690277</td>\n",
       "    </tr>\n",
       "    <tr>\n",
       "      <th>32954824</th>\n",
       "      <td>Разработчик Python</td>\n",
       "      <td>100000-180000 руб.</td>\n",
       "      <td>https://hh.ru/vacancy/32954824</td>\n",
       "    </tr>\n",
       "    <tr>\n",
       "      <th>32791449</th>\n",
       "      <td>Python Web Developer</td>\n",
       "      <td>200000-300000 руб.</td>\n",
       "      <td>https://hh.ru/vacancy/32791449</td>\n",
       "    </tr>\n",
       "    <tr>\n",
       "      <th>32090806</th>\n",
       "      <td>Senior Python разработчик</td>\n",
       "      <td>до 220000 руб.</td>\n",
       "      <td>https://hh.ru/vacancy/32090806</td>\n",
       "    </tr>\n",
       "    <tr>\n",
       "      <th>32719006</th>\n",
       "      <td>Программист Python</td>\n",
       "      <td>от 90000 руб.</td>\n",
       "      <td>https://hh.ru/vacancy/32719006</td>\n",
       "    </tr>\n",
       "    <tr>\n",
       "      <th>32566934</th>\n",
       "      <td>Python Developer</td>\n",
       "      <td>150000-200000 руб.</td>\n",
       "      <td>https://hh.ru/vacancy/32566934</td>\n",
       "    </tr>\n",
       "    <tr>\n",
       "      <th>32256640</th>\n",
       "      <td>Ведущий разработчик Python на платежную платформу</td>\n",
       "      <td>от 200000 руб.</td>\n",
       "      <td>https://hh.ru/vacancy/32256640</td>\n",
       "    </tr>\n",
       "    <tr>\n",
       "      <th>31624245</th>\n",
       "      <td>Разработчик Python</td>\n",
       "      <td>160000-200000 руб.</td>\n",
       "      <td>https://hh.ru/vacancy/31624245</td>\n",
       "    </tr>\n",
       "  </tbody>\n",
       "</table>\n",
       "</div>"
      ],
      "text/plain": [
       "                                                       name  \\\n",
       "index                                                         \n",
       "32438211                                 Python разработчик   \n",
       "32740537                        Программист Python (в Ригу)   \n",
       "32923751                         Python Backend разработчик   \n",
       "31240024  Младший разработчик веб-скрейперов (Python, Se...   \n",
       "32680147                                 Python-разработчик   \n",
       "32433718                      Back-end разработчик (Python)   \n",
       "32528796                                   Python Developer   \n",
       "32690277                 Backend Developer (Python, Django)   \n",
       "32954824                                 Разработчик Python   \n",
       "32791449                               Python Web Developer   \n",
       "32090806                          Senior Python разработчик   \n",
       "32719006                                 Программист Python   \n",
       "32566934                                   Python Developer   \n",
       "32256640  Ведущий разработчик Python на платежную платформу   \n",
       "31624245                                 Разработчик Python   \n",
       "\n",
       "                      salary                            link  \n",
       "index                                                         \n",
       "32438211      от 120000 руб.  https://hh.ru/vacancy/32438211  \n",
       "32740537       2000-3000 EUR  https://hh.ru/vacancy/32740537  \n",
       "32923751  120000-160000 руб.  https://hh.ru/vacancy/32923751  \n",
       "31240024   80000-100000 руб.  https://hh.ru/vacancy/31240024  \n",
       "32680147      до 200000 руб.  https://hh.ru/vacancy/32680147  \n",
       "32433718   80000-120000 руб.  https://hh.ru/vacancy/32433718  \n",
       "32528796      от 120000 руб.  https://hh.ru/vacancy/32528796  \n",
       "32690277  180000-220000 руб.  https://hh.ru/vacancy/32690277  \n",
       "32954824  100000-180000 руб.  https://hh.ru/vacancy/32954824  \n",
       "32791449  200000-300000 руб.  https://hh.ru/vacancy/32791449  \n",
       "32090806      до 220000 руб.  https://hh.ru/vacancy/32090806  \n",
       "32719006       от 90000 руб.  https://hh.ru/vacancy/32719006  \n",
       "32566934  150000-200000 руб.  https://hh.ru/vacancy/32566934  \n",
       "32256640      от 200000 руб.  https://hh.ru/vacancy/32256640  \n",
       "31624245  160000-200000 руб.  https://hh.ru/vacancy/31624245  "
      ]
     },
     "execution_count": 7,
     "metadata": {},
     "output_type": "execute_result"
    }
   ],
   "source": [
    "df.head(15)"
   ]
  }
 ],
 "metadata": {
  "kernelspec": {
   "display_name": "Python 3",
   "language": "python",
   "name": "python3"
  },
  "language_info": {
   "codemirror_mode": {
    "name": "ipython",
    "version": 3
   },
   "file_extension": ".py",
   "mimetype": "text/x-python",
   "name": "python",
   "nbconvert_exporter": "python",
   "pygments_lexer": "ipython3",
   "version": "3.7.1"
  }
 },
 "nbformat": 4,
 "nbformat_minor": 2
}
