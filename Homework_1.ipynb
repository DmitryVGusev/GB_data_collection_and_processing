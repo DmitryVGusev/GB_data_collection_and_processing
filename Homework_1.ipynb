{
 "cells": [
  {
   "cell_type": "markdown",
   "metadata": {},
   "source": [
    "# Введение в методы сбора и обработки данных\n",
    "## Добашнее задание к первому уроку"
   ]
  },
  {
   "cell_type": "markdown",
   "metadata": {},
   "source": [
    "### Задание 1\n",
    "1. Установить Fiddler, настроить отображение HTTPS трафика\n",
    "\n",
    "2. Сделать POST-запрос для заполнения какой-либо формы на сайте, прислать скриншот POST-параметров из Fiddler’a\u000b",
    "\u000b"
   ]
  },
  {
   "cell_type": "markdown",
   "metadata": {},
   "source": [
    "_К сожалению, у меня не получилось поставить Fiddler на MacOS, а машины с ос Windows под рукой пока нет. Надеюсь, в течении пару дней появится._"
   ]
  },
  {
   "cell_type": "code",
   "execution_count": null,
   "metadata": {},
   "outputs": [],
   "source": [
    "!curl "
   ]
  },
  {
   "cell_type": "markdown",
   "metadata": {},
   "source": [
    "### Задание 2\n",
    "Посмотреть документацию к API гитхаба, разобраться как вывести список репозиториев для конкретного пользователя, прислать JSON-вывод в текстовом файле."
   ]
  },
  {
   "cell_type": "markdown",
   "metadata": {},
   "source": [
    "#### Ответ:\n",
    "В гитхабе документация очень даже понятная и прозрачная. На примере, возьму свой аккаунт."
   ]
  },
  {
   "cell_type": "code",
   "execution_count": 12,
   "metadata": {},
   "outputs": [],
   "source": [
    "!curl -s https://api.github.com/users/DmitryVGusev/repos > repos.json"
   ]
  },
  {
   "cell_type": "code",
   "execution_count": 11,
   "metadata": {},
   "outputs": [
    {
     "name": "stdout",
     "output_type": "stream",
     "text": [
      "[\r\n",
      "  {\r\n",
      "    \"id\": 179862838,\r\n",
      "    \"node_id\": \"MDEwOlJlcG9zaXRvcnkxNzk4NjI4Mzg=\",\r\n",
      "    \"name\": \"algo_and_structures_python\",\r\n",
      "    \"full_name\": \"DmitryVGusev/algo_and_structures_python\",\r\n",
      "    \"private\": false,\r\n",
      "    \"owner\": {\r\n",
      "      \"login\": \"DmitryVGusev\",\r\n",
      "      \"id\": 8968925,\r\n",
      "      \"node_id\": \"MDQ6VXNlcjg5Njg5MjU=\",\r\n",
      "      \"avatar_url\": \"https://avatars3.githubusercontent.com/u/8968925?v=4\",\r\n",
      "      \"gravatar_id\": \"\",\r\n",
      "      \"url\": \"https://api.github.com/users/DmitryVGusev\",\r\n",
      "      \"html_url\": \"https://github.com/DmitryVGusev\",\r\n",
      "      \"followers_url\": \"https://api.github.com/users/DmitryVGusev/followers\",\r\n",
      "      \"following_url\": \"https://api.github.com/users/DmitryVGusev/following{/other_user}\",\r\n",
      "      \"gists_url\": \"https://api.github.com/users/DmitryVGusev/gists{/gist_id}\",\r\n",
      "      \"starred_url\": \"https://api.github.com/users/DmitryVGusev/starred{/owner}{/repo}\",\r\n",
      "      \"subscriptions_url\": \"https://api.github.com/users/DmitryVGusev/subscriptions\",\r\n"
     ]
    }
   ],
   "source": [
    "!head -20 repos.json"
   ]
  },
  {
   "cell_type": "markdown",
   "metadata": {},
   "source": [
    "Эти же манипуляции но с помощью Pyhton:"
   ]
  },
  {
   "cell_type": "code",
   "execution_count": 13,
   "metadata": {},
   "outputs": [],
   "source": [
    "import requests\n",
    "import pandas as pd"
   ]
  },
  {
   "cell_type": "code",
   "execution_count": 17,
   "metadata": {},
   "outputs": [
    {
     "data": {
      "text/plain": [
       "{'id': 179862838,\n",
       " 'node_id': 'MDEwOlJlcG9zaXRvcnkxNzk4NjI4Mzg=',\n",
       " 'name': 'algo_and_structures_python',\n",
       " 'full_name': 'DmitryVGusev/algo_and_structures_python',\n",
       " 'private': False,\n",
       " 'owner': {'login': 'DmitryVGusev',\n",
       "  'id': 8968925,\n",
       "  'node_id': 'MDQ6VXNlcjg5Njg5MjU=',\n",
       "  'avatar_url': 'https://avatars3.githubusercontent.com/u/8968925?v=4',\n",
       "  'gravatar_id': '',\n",
       "  'url': 'https://api.github.com/users/DmitryVGusev',\n",
       "  'html_url': 'https://github.com/DmitryVGusev',\n",
       "  'followers_url': 'https://api.github.com/users/DmitryVGusev/followers',\n",
       "  'following_url': 'https://api.github.com/users/DmitryVGusev/following{/other_user}',\n",
       "  'gists_url': 'https://api.github.com/users/DmitryVGusev/gists{/gist_id}',\n",
       "  'starred_url': 'https://api.github.com/users/DmitryVGusev/starred{/owner}{/repo}',\n",
       "  'subscriptions_url': 'https://api.github.com/users/DmitryVGusev/subscriptions',\n",
       "  'organizations_url': 'https://api.github.com/users/DmitryVGusev/orgs',\n",
       "  'repos_url': 'https://api.github.com/users/DmitryVGusev/repos',\n",
       "  'events_url': 'https://api.github.com/users/DmitryVGusev/events{/privacy}',\n",
       "  'received_events_url': 'https://api.github.com/users/DmitryVGusev/received_events',\n",
       "  'type': 'User',\n",
       "  'site_admin': False},\n",
       " 'html_url': 'https://github.com/DmitryVGusev/algo_and_structures_python',\n",
       " 'description': None,\n",
       " 'fork': True,\n",
       " 'url': 'https://api.github.com/repos/DmitryVGusev/algo_and_structures_python',\n",
       " 'forks_url': 'https://api.github.com/repos/DmitryVGusev/algo_and_structures_python/forks',\n",
       " 'keys_url': 'https://api.github.com/repos/DmitryVGusev/algo_and_structures_python/keys{/key_id}',\n",
       " 'collaborators_url': 'https://api.github.com/repos/DmitryVGusev/algo_and_structures_python/collaborators{/collaborator}',\n",
       " 'teams_url': 'https://api.github.com/repos/DmitryVGusev/algo_and_structures_python/teams',\n",
       " 'hooks_url': 'https://api.github.com/repos/DmitryVGusev/algo_and_structures_python/hooks',\n",
       " 'issue_events_url': 'https://api.github.com/repos/DmitryVGusev/algo_and_structures_python/issues/events{/number}',\n",
       " 'events_url': 'https://api.github.com/repos/DmitryVGusev/algo_and_structures_python/events',\n",
       " 'assignees_url': 'https://api.github.com/repos/DmitryVGusev/algo_and_structures_python/assignees{/user}',\n",
       " 'branches_url': 'https://api.github.com/repos/DmitryVGusev/algo_and_structures_python/branches{/branch}',\n",
       " 'tags_url': 'https://api.github.com/repos/DmitryVGusev/algo_and_structures_python/tags',\n",
       " 'blobs_url': 'https://api.github.com/repos/DmitryVGusev/algo_and_structures_python/git/blobs{/sha}',\n",
       " 'git_tags_url': 'https://api.github.com/repos/DmitryVGusev/algo_and_structures_python/git/tags{/sha}',\n",
       " 'git_refs_url': 'https://api.github.com/repos/DmitryVGusev/algo_and_structures_python/git/refs{/sha}',\n",
       " 'trees_url': 'https://api.github.com/repos/DmitryVGusev/algo_and_structures_python/git/trees{/sha}',\n",
       " 'statuses_url': 'https://api.github.com/repos/DmitryVGusev/algo_and_structures_python/statuses/{sha}',\n",
       " 'languages_url': 'https://api.github.com/repos/DmitryVGusev/algo_and_structures_python/languages',\n",
       " 'stargazers_url': 'https://api.github.com/repos/DmitryVGusev/algo_and_structures_python/stargazers',\n",
       " 'contributors_url': 'https://api.github.com/repos/DmitryVGusev/algo_and_structures_python/contributors',\n",
       " 'subscribers_url': 'https://api.github.com/repos/DmitryVGusev/algo_and_structures_python/subscribers',\n",
       " 'subscription_url': 'https://api.github.com/repos/DmitryVGusev/algo_and_structures_python/subscription',\n",
       " 'commits_url': 'https://api.github.com/repos/DmitryVGusev/algo_and_structures_python/commits{/sha}',\n",
       " 'git_commits_url': 'https://api.github.com/repos/DmitryVGusev/algo_and_structures_python/git/commits{/sha}',\n",
       " 'comments_url': 'https://api.github.com/repos/DmitryVGusev/algo_and_structures_python/comments{/number}',\n",
       " 'issue_comment_url': 'https://api.github.com/repos/DmitryVGusev/algo_and_structures_python/issues/comments{/number}',\n",
       " 'contents_url': 'https://api.github.com/repos/DmitryVGusev/algo_and_structures_python/contents/{+path}',\n",
       " 'compare_url': 'https://api.github.com/repos/DmitryVGusev/algo_and_structures_python/compare/{base}...{head}',\n",
       " 'merges_url': 'https://api.github.com/repos/DmitryVGusev/algo_and_structures_python/merges',\n",
       " 'archive_url': 'https://api.github.com/repos/DmitryVGusev/algo_and_structures_python/{archive_format}{/ref}',\n",
       " 'downloads_url': 'https://api.github.com/repos/DmitryVGusev/algo_and_structures_python/downloads',\n",
       " 'issues_url': 'https://api.github.com/repos/DmitryVGusev/algo_and_structures_python/issues{/number}',\n",
       " 'pulls_url': 'https://api.github.com/repos/DmitryVGusev/algo_and_structures_python/pulls{/number}',\n",
       " 'milestones_url': 'https://api.github.com/repos/DmitryVGusev/algo_and_structures_python/milestones{/number}',\n",
       " 'notifications_url': 'https://api.github.com/repos/DmitryVGusev/algo_and_structures_python/notifications{?since,all,participating}',\n",
       " 'labels_url': 'https://api.github.com/repos/DmitryVGusev/algo_and_structures_python/labels{/name}',\n",
       " 'releases_url': 'https://api.github.com/repos/DmitryVGusev/algo_and_structures_python/releases{/id}',\n",
       " 'deployments_url': 'https://api.github.com/repos/DmitryVGusev/algo_and_structures_python/deployments',\n",
       " 'created_at': '2019-04-06T17:09:20Z',\n",
       " 'updated_at': '2019-04-27T17:38:34Z',\n",
       " 'pushed_at': '2019-04-29T12:18:11Z',\n",
       " 'git_url': 'git://github.com/DmitryVGusev/algo_and_structures_python.git',\n",
       " 'ssh_url': 'git@github.com:DmitryVGusev/algo_and_structures_python.git',\n",
       " 'clone_url': 'https://github.com/DmitryVGusev/algo_and_structures_python.git',\n",
       " 'svn_url': 'https://github.com/DmitryVGusev/algo_and_structures_python',\n",
       " 'homepage': None,\n",
       " 'size': 63,\n",
       " 'stargazers_count': 0,\n",
       " 'watchers_count': 0,\n",
       " 'language': 'Python',\n",
       " 'has_issues': False,\n",
       " 'has_projects': True,\n",
       " 'has_downloads': True,\n",
       " 'has_wiki': True,\n",
       " 'has_pages': False,\n",
       " 'forks_count': 0,\n",
       " 'mirror_url': None,\n",
       " 'archived': False,\n",
       " 'disabled': False,\n",
       " 'open_issues_count': 0,\n",
       " 'license': None,\n",
       " 'forks': 0,\n",
       " 'open_issues': 0,\n",
       " 'watchers': 0,\n",
       " 'default_branch': 'master'}"
      ]
     },
     "execution_count": 17,
     "metadata": {},
     "output_type": "execute_result"
    }
   ],
   "source": [
    "r = requests.get('https://api.github.com/users/DmitryVGusev/repos')\n",
    "r.json()[0]"
   ]
  }
 ],
 "metadata": {
  "kernelspec": {
   "display_name": "Python 3",
   "language": "python",
   "name": "python3"
  },
  "language_info": {
   "codemirror_mode": {
    "name": "ipython",
    "version": 3
   },
   "file_extension": ".py",
   "mimetype": "text/x-python",
   "name": "python",
   "nbconvert_exporter": "python",
   "pygments_lexer": "ipython3",
   "version": "3.7.1"
  }
 },
 "nbformat": 4,
 "nbformat_minor": 2
}
