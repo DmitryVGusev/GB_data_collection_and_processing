{
 "cells": [
  {
   "cell_type": "markdown",
   "metadata": {},
   "source": [
    "# Введение в методы сбора и обработки данных\n",
    "## Добашнее задание к седьмому уроку \"Открытые данные\""
   ]
  },
  {
   "cell_type": "markdown",
   "metadata": {},
   "source": [
    " ### Задание 1\n",
    " Создать приложение, которое будет из готового файла с данными «Сбербанка» (https://www.sberbank.com/ru/analytics/opendata) выводить результат по параметрам: \n",
    " * Тип данных \n",
    " * Интервал дат \n",
    " * Область"
   ]
  },
  {
   "cell_type": "code",
   "execution_count": 52,
   "metadata": {},
   "outputs": [],
   "source": [
    "import numpy as np\n",
    "import pandas as pd\n",
    "from matplotlib import pyplot as plt"
   ]
  },
  {
   "cell_type": "markdown",
   "metadata": {},
   "source": [
    "#### Решение"
   ]
  },
  {
   "cell_type": "markdown",
   "metadata": {},
   "source": [
    "Загрузим cvs в датасет pandas"
   ]
  },
  {
   "cell_type": "code",
   "execution_count": null,
   "metadata": {},
   "outputs": [],
   "source": [
    "df = pd.read_csv('opendata.csv', encoding='cp1251')"
   ]
  },
  {
   "cell_type": "code",
   "execution_count": 42,
   "metadata": {},
   "outputs": [
    {
     "name": "stdout",
     "output_type": "stream",
     "text": [
      "<class 'pandas.core.frame.DataFrame'>\n",
      "RangeIndex: 74842 entries, 0 to 74841\n",
      "Data columns (total 4 columns):\n",
      "name      74842 non-null object\n",
      "region    74842 non-null object\n",
      "date      74842 non-null datetime64[ns]\n",
      "value     74842 non-null int64\n",
      "dtypes: datetime64[ns](1), int64(1), object(2)\n",
      "memory usage: 2.3+ MB\n"
     ]
    }
   ],
   "source": [
    "df.info()"
   ]
  },
  {
   "cell_type": "markdown",
   "metadata": {},
   "source": [
    "Переведем признак `date` в тип `datetime`"
   ]
  },
  {
   "cell_type": "code",
   "execution_count": 103,
   "metadata": {},
   "outputs": [],
   "source": [
    "df['date'] = pd.to_datetime(df['date'], format='%Y-%m-%d', errors='coerce')"
   ]
  },
  {
   "cell_type": "markdown",
   "metadata": {},
   "source": [
    "Реализуем функции получения результата по запросу пользователя."
   ]
  },
  {
   "cell_type": "code",
   "execution_count": 102,
   "metadata": {},
   "outputs": [],
   "source": [
    "def get_user_request_data(df):\n",
    "    # Получение списков регионов и целевыхтаблиц\n",
    "    data_types = df.name.value_counts().index\n",
    "    data_regions = df.region.value_counts().index\n",
    "\n",
    "    \n",
    "    # Запрос пользователя об интересующем его типе данных\n",
    "    i = 1\n",
    "    print(\"Выберете тип данных:\")\n",
    "    for dtype in data_types:\n",
    "        print(f\"{i}) {dtype}\")\n",
    "        i += 1\n",
    "    dtype_index = int(input(f\"[1-{i-1}]: \")) - 1\n",
    "\n",
    "\n",
    "    # Запрос пользователя об интересующем его регионе\n",
    "    i = 1\n",
    "    print(\"\\n\\nВыберите регион:\")\n",
    "    for dregion in data_regions:\n",
    "        print(f\"{i}) {dregion}\")\n",
    "        i += 1\n",
    "    dregion_index = int(input(f\"[1-{i-1}]: \")) - 1\n",
    "\n",
    "    print(f\"Регион - {data_regions[dregion_index]}\\nТип - {data_types[dtype_index]}\")\n",
    "\n",
    "    date_min = df.date.min()\n",
    "    date_max = df.date.max()\n",
    "\n",
    "    # Запрос пользователя об интересующем его временном интервале\n",
    "    print(f\"Данные по временному периоду от {date_min} до {date_max}\")\n",
    "    ts_left = input(\"Укажите начало временного периода [гггг-мм-дд]: \")\n",
    "    ts_right = input(\"Укажите кеноц временного периода [гггг-мм-дд]: \")\n",
    "    \n",
    "    selected_df = df.loc[df.region == data_regions[dregion_index]].loc[df.name == data_types[dtype_index]]\n",
    "    selected_df = selected_df.loc[df.date > ts_left].loc[df.date < ts_right ]\n",
    "    \n",
    "    return selected_df"
   ]
  },
  {
   "cell_type": "code",
   "execution_count": 132,
   "metadata": {},
   "outputs": [
    {
     "name": "stdout",
     "output_type": "stream",
     "text": [
      "Выберете тип данных:\n",
      "1) Средняя сумма заявки на потребительский кредит\n",
      "2) Количество заявок на потребительские кредиты\n",
      "3) Количество заявок на ипотечные кредиты\n",
      "4) Средняя сумма заявки на ипотечный кредит\n",
      "5) В среднем руб. на текущем счете на человека\n",
      "6) Средняя пенсия\n",
      "7) Средние расходы по картам\n",
      "8) В среднем депозитов в руб. на человека\n",
      "9) Средняя сумма нового депозита\n",
      "10) Количество новых депозитов\n",
      "11) Средняя зарплата\n",
      "12) Средние траты в ресторане\n",
      "13) Средний чек в формате Ресторан\n",
      "14) Средние траты в ресторане фастфуд\n",
      "15) Средний чек в формате Фастфуд\n",
      "[1-15]: 3\n",
      "\n",
      "\n",
      "Выберите регион:\n",
      "1) Липецкая область\n",
      "2) Республика Алтай (Горный Алтай)\n",
      "3) Красноярский край\n",
      "4) Свердловская область\n",
      "5) Республика Саха (Якутия)\n",
      "6) Тульская область\n",
      "7) Новгородская область\n",
      "8) Псковская область\n",
      "9) Волгоградская область\n",
      "10) Ростовская область\n",
      "11) Воронежская область\n",
      "12) Ивановская область\n",
      "13) Удмуртская Республика\n",
      "14) Камчатский край\n",
      "15) Республика Коми\n",
      "16) Чувашская Республика\n",
      "17) Ненецкий автономный округ\n",
      "18) Чукотский автономный округ\n",
      "19) Томская область\n",
      "20) Республика Карелия\n",
      "21) Новосибирская область\n",
      "22) Омская область\n",
      "23) Вологодская область\n",
      "24) Сахалинская область\n",
      "25) Орловская область\n",
      "26) Республика Дагестан\n",
      "27) Приморский край\n",
      "28) Нижегородская область\n",
      "29) Иркутская область\n",
      "30) Рязанская область\n",
      "31) Калининградская область\n",
      "32) Республика Тыва\n",
      "33) Республика Мордовия\n",
      "34) Республика Марий Эл\n",
      "35) Ханты-Мансийский автономный округ — Югра\n",
      "36) Республика Татарстан\n",
      "37) Ставропольский край\n",
      "38) Республика Бурятия\n",
      "39) Республика Башкортостан\n",
      "40) Астраханская область\n",
      "41) Ямало-Ненецкий автономный округ\n",
      "42) Ульяновская область\n",
      "43) Кабардино-Балкарская Республика\n",
      "44) Республика Хакасия\n",
      "45) Алтайский край\n",
      "46) Курская область\n",
      "47) Краснодарский край\n",
      "48) Тверская область\n",
      "49) Белгородская область\n",
      "50) Республика Карачаево-Черкессия\n",
      "51) Костромская область\n",
      "52) Кемеровская область\n",
      "53) Россия\n",
      "54) Брянская область\n",
      "55) Владимирская область\n",
      "56) Санкт-Петербург\n",
      "57) Ярославская область\n",
      "58) Республика Калмыкия\n",
      "59) Пензенская область\n",
      "60) Ленинградская область\n",
      "61) Челябинская область\n",
      "62) Мурманская область\n",
      "63) Республика Северная Осетия-Алания\n",
      "64) Москва\n",
      "65) Калужская область\n",
      "66) Хабаровский край\n",
      "67) Саратовская область\n",
      "68) Чеченская Республика\n",
      "69) Магаданская область\n",
      "70) Самарская область\n",
      "71) Тамбовская область\n",
      "72) Забайкальский край\n",
      "73) Архангельская область\n",
      "74) Республика Адыгея\n",
      "75) Пермский край\n",
      "76) Смоленская область\n",
      "77) Оренбургская область\n",
      "78) Тюменская область\n",
      "79) Амурская область\n",
      "80) Московская область\n",
      "81) Курганская область\n",
      "82) Кировская область\n",
      "83) Еврейская автономная область\n",
      "84) Республика Ингушетия\n",
      "[1-84]: 69\n",
      "Регион - Магаданская область\n",
      "Тип - Количество заявок на ипотечные кредиты\n",
      "Данные по временному периоду от 2013-01-15 00:00:00 до 2019-01-15 00:00:00\n",
      "Укажите начало временного периода [гггг-мм-дд]: 2014-05-05\n",
      "Укажите кеноц временного периода [гггг-мм-дд]: 2016-05-05\n"
     ]
    }
   ],
   "source": [
    "df2 = get_user_request_data(df) "
   ]
  },
  {
   "cell_type": "code",
   "execution_count": 134,
   "metadata": {
    "scrolled": true
   },
   "outputs": [
    {
     "data": {
      "text/html": [
       "<div>\n",
       "<style scoped>\n",
       "    .dataframe tbody tr th:only-of-type {\n",
       "        vertical-align: middle;\n",
       "    }\n",
       "\n",
       "    .dataframe tbody tr th {\n",
       "        vertical-align: top;\n",
       "    }\n",
       "\n",
       "    .dataframe thead th {\n",
       "        text-align: right;\n",
       "    }\n",
       "</style>\n",
       "<table border=\"1\" class=\"dataframe\">\n",
       "  <thead>\n",
       "    <tr style=\"text-align: right;\">\n",
       "      <th></th>\n",
       "      <th>name</th>\n",
       "      <th>region</th>\n",
       "      <th>date</th>\n",
       "      <th>value</th>\n",
       "    </tr>\n",
       "  </thead>\n",
       "  <tbody>\n",
       "    <tr>\n",
       "      <th>14324</th>\n",
       "      <td>Количество заявок на ипотечные кредиты</td>\n",
       "      <td>Магаданская область</td>\n",
       "      <td>2014-05-15</td>\n",
       "      <td>118</td>\n",
       "    </tr>\n",
       "    <tr>\n",
       "      <th>14325</th>\n",
       "      <td>Количество заявок на ипотечные кредиты</td>\n",
       "      <td>Магаданская область</td>\n",
       "      <td>2014-06-15</td>\n",
       "      <td>147</td>\n",
       "    </tr>\n",
       "    <tr>\n",
       "      <th>14326</th>\n",
       "      <td>Количество заявок на ипотечные кредиты</td>\n",
       "      <td>Магаданская область</td>\n",
       "      <td>2014-07-15</td>\n",
       "      <td>123</td>\n",
       "    </tr>\n",
       "    <tr>\n",
       "      <th>14327</th>\n",
       "      <td>Количество заявок на ипотечные кредиты</td>\n",
       "      <td>Магаданская область</td>\n",
       "      <td>2014-08-15</td>\n",
       "      <td>105</td>\n",
       "    </tr>\n",
       "    <tr>\n",
       "      <th>14328</th>\n",
       "      <td>Количество заявок на ипотечные кредиты</td>\n",
       "      <td>Магаданская область</td>\n",
       "      <td>2014-09-15</td>\n",
       "      <td>131</td>\n",
       "    </tr>\n",
       "  </tbody>\n",
       "</table>\n",
       "</div>"
      ],
      "text/plain": [
       "                                         name               region       date  \\\n",
       "14324  Количество заявок на ипотечные кредиты  Магаданская область 2014-05-15   \n",
       "14325  Количество заявок на ипотечные кредиты  Магаданская область 2014-06-15   \n",
       "14326  Количество заявок на ипотечные кредиты  Магаданская область 2014-07-15   \n",
       "14327  Количество заявок на ипотечные кредиты  Магаданская область 2014-08-15   \n",
       "14328  Количество заявок на ипотечные кредиты  Магаданская область 2014-09-15   \n",
       "\n",
       "       value  \n",
       "14324    118  \n",
       "14325    147  \n",
       "14326    123  \n",
       "14327    105  \n",
       "14328    131  "
      ]
     },
     "execution_count": 134,
     "metadata": {},
     "output_type": "execute_result"
    }
   ],
   "source": [
    "df2.head(5)"
   ]
  },
  {
   "cell_type": "markdown",
   "metadata": {},
   "source": [
    "### Задача 2\n",
    "Визуализировать выводимые данные с помощью графика\n",
    "#### Решение"
   ]
  },
  {
   "cell_type": "markdown",
   "metadata": {},
   "source": [
    "Напишем функцию которая строит график по получившимуся датасету"
   ]
  },
  {
   "cell_type": "code",
   "execution_count": 136,
   "metadata": {},
   "outputs": [],
   "source": [
    "def visualise_dataframe(df):\n",
    "    # Задаем размер графика, подписываем его\n",
    "    plt.figure(figsize=(20,10))\n",
    "    plt.xlabel('Дата')\n",
    "    df_type = df.name.tolist()[0]\n",
    "    df_region = df.region.tolist()[0]\n",
    "    plt.title(f'{df_type} в регионе {df_region}')\n",
    "    \n",
    "    # Нарисуем график\n",
    "    plt.plot(df['date'], df['value'])\n",
    "    plt.show();"
   ]
  },
  {
   "cell_type": "code",
   "execution_count": 137,
   "metadata": {},
   "outputs": [
    {
     "data": {
      "image/png": "[encoded data removed]",
      "text/plain": [
       "<Figure size 1440x720 with 1 Axes>"
      ]
     },
     "metadata": {
      "needs_background": "light"
     },
     "output_type": "display_data"
    }
   ],
   "source": [
    "visualise_dataframe(df2)"
   ]
  }
 ],
 "metadata": {
  "kernelspec": {
   "display_name": "Python 3",
   "language": "python",
   "name": "python3"
  },
  "language_info": {
   "codemirror_mode": {
    "name": "ipython",
    "version": 3
   },
   "file_extension": ".py",
   "mimetype": "text/x-python",
   "name": "python",
   "nbconvert_exporter": "python",
   "pygments_lexer": "ipython3",
   "version": "3.7.1"
  }
 },
 "nbformat": 4,
 "nbformat_minor": 2
}
